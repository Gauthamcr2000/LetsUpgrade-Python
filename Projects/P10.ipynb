{
 "cells": [
  {
   "cell_type": "markdown",
   "metadata": {},
   "source": [
    "# Project -\n",
    "\n",
    "    Akash and Vishal are quite fond of travelling.\n",
    "    They mostly travel by railways.\n",
    "    They were travelling in a train one day and they got interested in the seating arrangement of their compartment.\n",
    "    \n",
    "    So they got interested to know the seat number facing them and the seat type facing them.\n",
    "    The seats are denoted as follows:\n",
    "    \n",
    "    Window Seat : WS\n",
    "    Middle Seat : MS\n",
    "    Aisle Seat : AS\n",
    "    \n",
    "    You will be given a seat number, find out the seat number facing you and the seat type, i.e., WS, MS or AS.\n",
    "    \n",
    "    Input :\n",
    "    First line of input will consist of a single integer T denoting number of test case.\n",
    "    Each test-case consists of a single integer N denoting the seat number.\n",
    "    \n",
    "    Output :\n",
    "    For each test case, print the facing seat-number and the seat-type, separated by a single space in a new line.\n",
    "    \n",
    "    Constraints:\n",
    "    1<=T<=105\n",
    "    1<=N<=108"
   ]
  },
  {
   "cell_type": "code",
   "execution_count": 1,
   "metadata": {},
   "outputs": [],
   "source": [
    "def findseat():      #defining a function to check the seat numbers opposite to the seat number which is given as input.\n",
    "    T = int(input('Enter the number of test cases : \\n'))    #statement which asks the user to enter the number of test cases.\n",
    "    rem = 0\n",
    "    for item in range(T):\n",
    "        if T >= 1 and T <= 105:    #checks this condition, if this condition is not satisfied then the result will be invalid.\n",
    "            for i in range(T):\n",
    "                N = int(input('Enter the seat number : '))  #asks the user to enter the seat number.\n",
    "                if N >= 1 and N <= 108:   #if this condition is not satisfied then the result will be printed invalid.\n",
    "                    rem = N % 12     #logic to check the seat number opposite to the entered seat number.\n",
    "                    if rem == 1:\n",
    "                        print(N + 11,'WS') \n",
    "                        break\n",
    "                    elif rem == 2:\n",
    "                        print(N + 9,'MS')\n",
    "                        break\n",
    "                    elif rem == 3:\n",
    "                        print(N + 7,'AS')\n",
    "                        break\n",
    "                    elif rem == 4:\n",
    "                        print(N + 5,'AS')\n",
    "                        break\n",
    "                    elif rem == 5:\n",
    "                        print(N + 3,'MS')\n",
    "                        break\n",
    "                    elif rem == 6:\n",
    "                        print(N + 1,'WS')\n",
    "                        break\n",
    "                    elif rem == 7:\n",
    "                        print(N - 1,'WS')\n",
    "                        break\n",
    "                    elif rem == 8:\n",
    "                        print(N - 3,'MS')\n",
    "                        break\n",
    "                    elif rem == 9:\n",
    "                        print(N - 5,'AS')\n",
    "                        break\n",
    "                    elif rem == 10:\n",
    "                        print(N - 7,'AS')\n",
    "                        break\n",
    "                    elif rem == 11:\n",
    "                        print(N - 9,'MS')\n",
    "                        break\n",
    "                    elif rem == 0:\n",
    "                        print(N - 11,'WS')\n",
    "                        break\n",
    "                else:\n",
    "                    print('Invalid Input')\n",
    "                    break\n",
    "        else:\n",
    "            print('Invalid Input')\n",
    "            break"
   ]
  },
  {
   "cell_type": "code",
   "execution_count": 2,
   "metadata": {},
   "outputs": [
    {
     "name": "stdout",
     "output_type": "stream",
     "text": [
      "Enter the number of test cases : \n",
      "2\n",
      "Enter the seat number : 18\n",
      "19 WS\n",
      "Enter the seat number : 40\n",
      "45 AS\n"
     ]
    }
   ],
   "source": [
    "findseat()"
   ]
  },
  {
   "cell_type": "code",
   "execution_count": 3,
   "metadata": {},
   "outputs": [
    {
     "name": "stdout",
     "output_type": "stream",
     "text": [
      "Enter the number of test cases : \n",
      "5\n",
      "Enter the seat number : 14\n",
      "23 MS\n",
      "Enter the seat number : 26\n",
      "35 MS\n",
      "Enter the seat number : 110\n",
      "Invalid Input\n",
      "Enter the seat number : 82\n",
      "75 AS\n",
      "Enter the seat number : 75\n",
      "82 AS\n"
     ]
    }
   ],
   "source": [
    "findseat()"
   ]
  },
  {
   "cell_type": "code",
   "execution_count": 4,
   "metadata": {},
   "outputs": [
    {
     "name": "stdout",
     "output_type": "stream",
     "text": [
      "Enter the number of test cases : \n",
      "106\n",
      "Invalid Input\n"
     ]
    }
   ],
   "source": [
    "findseat()"
   ]
  },
  {
   "cell_type": "code",
   "execution_count": null,
   "metadata": {},
   "outputs": [],
   "source": []
  }
 ],
 "metadata": {
  "kernelspec": {
   "display_name": "Python 3",
   "language": "python",
   "name": "python3"
  },
  "language_info": {
   "codemirror_mode": {
    "name": "ipython",
    "version": 3
   },
   "file_extension": ".py",
   "mimetype": "text/x-python",
   "name": "python",
   "nbconvert_exporter": "python",
   "pygments_lexer": "ipython3",
   "version": "3.7.6"
  }
 },
 "nbformat": 4,
 "nbformat_minor": 4
}
