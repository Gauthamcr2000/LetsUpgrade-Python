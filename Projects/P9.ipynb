{
 "cells": [
  {
   "cell_type": "markdown",
   "metadata": {},
   "source": [
    "# Project - \n",
    "\n",
    "    You have given an array A of size N consisting of positive integers.\n",
    "    You need find and print the product of all the number in this array modulo 109+7 (10^9+7).\n",
    "    \n",
    "    Input format :\n",
    "    The first line contains a single integer N denoting the size of the array.\n",
    "    The next line contains N space separated integers denoting the elements of the array.\n",
    "    \n",
    "    Output format :\n",
    "    Print a single integer denoting the product of all the elements of the array Modulo 109+7 (10^9+7).\n",
    "    \n",
    "    Constraints :\n",
    "    1<=N<=103\n",
    "    1<=A[i]<=103    "
   ]
  },
  {
   "cell_type": "code",
   "execution_count": 1,
   "metadata": {},
   "outputs": [],
   "source": [
    "def func():                                        #creating a function with name func.\n",
    "    arrA = []                                  #defining an empty array.\n",
    "    n = int(input('Enter the size : \\n'))                   #asking the user to enter the size of the array.\n",
    "    answer = 1                                    #taking 1 as the default value for the variable answer.\n",
    "    for i in range(n):\n",
    "        if n >= 1 and n <= 103:                #if this condition satisfies then the user can add elements into the list.\n",
    "            temp = int(input('Enter the number to add in the array : '))  \n",
    "            if temp >=1 and temp <= 103:  #if this condition satisfies then the integer mentioned by the user will be added to array.\n",
    "                arrA.append(temp)\n",
    "            else:                    #if user enters any negative integers or integers greater than 103 then it prints invalid.   \n",
    "                print('Invalid Input\\n')\n",
    "                return 0\n",
    "        else:                               #if the user enters the size in negative or greater than 103, it prints invalid.\n",
    "            print('Invalid Size\\n')\n",
    "            return 0\n",
    "    print('Elements in the array :\\n',arrA) #the array containing integers will be printed if the above conditions are satisfied.\n",
    "    for num in arrA:\n",
    "        answer = (answer * num) % (10**9+7)                         #this logic is applied for the integers in the array.\n",
    "    return answer                                           #returns the result of the above operation.\n"
   ]
  },
  {
   "cell_type": "code",
   "execution_count": 2,
   "metadata": {},
   "outputs": [
    {
     "name": "stdout",
     "output_type": "stream",
     "text": [
      "Enter the size : \n",
      "5\n",
      "Enter the number to add in the array : 1\n",
      "Enter the number to add in the array : 2\n",
      "Enter the number to add in the array : 3\n",
      "Enter the number to add in the array : 4\n",
      "Enter the number to add in the array : 5\n",
      "Elements in the array :\n",
      " [1, 2, 3, 4, 5]\n"
     ]
    },
    {
     "data": {
      "text/plain": [
       "120"
      ]
     },
     "execution_count": 2,
     "metadata": {},
     "output_type": "execute_result"
    }
   ],
   "source": [
    "func()"
   ]
  },
  {
   "cell_type": "code",
   "execution_count": 3,
   "metadata": {},
   "outputs": [
    {
     "name": "stdout",
     "output_type": "stream",
     "text": [
      "Enter the size : \n",
      "5\n",
      "Enter the number to add in the array : 1\n",
      "Enter the number to add in the array : 3\n",
      "Enter the number to add in the array : 5\n",
      "Enter the number to add in the array : 6\n",
      "Enter the number to add in the array : 7\n",
      "Elements in the array :\n",
      " [1, 3, 5, 6, 7]\n"
     ]
    },
    {
     "data": {
      "text/plain": [
       "630"
      ]
     },
     "execution_count": 3,
     "metadata": {},
     "output_type": "execute_result"
    }
   ],
   "source": [
    "func()"
   ]
  },
  {
   "cell_type": "code",
   "execution_count": 4,
   "metadata": {},
   "outputs": [
    {
     "name": "stdout",
     "output_type": "stream",
     "text": [
      "Enter the size : \n",
      "10\n",
      "Enter the number to add in the array : 5\n",
      "Enter the number to add in the array : 17\n",
      "Enter the number to add in the array : 26\n",
      "Enter the number to add in the array : 42\n",
      "Enter the number to add in the array : 38\n",
      "Enter the number to add in the array : 59\n",
      "Enter the number to add in the array : 64\n",
      "Enter the number to add in the array : 82\n",
      "Enter the number to add in the array : 96\n",
      "Enter the number to add in the array : 75\n",
      "Elements in the array :\n",
      " [5, 17, 26, 42, 38, 59, 64, 82, 96, 75]\n"
     ]
    },
    {
     "data": {
      "text/plain": [
       "501821075"
      ]
     },
     "execution_count": 4,
     "metadata": {},
     "output_type": "execute_result"
    }
   ],
   "source": [
    "func()"
   ]
  },
  {
   "cell_type": "code",
   "execution_count": null,
   "metadata": {},
   "outputs": [],
   "source": []
  }
 ],
 "metadata": {
  "kernelspec": {
   "display_name": "Python 3",
   "language": "python",
   "name": "python3"
  },
  "language_info": {
   "codemirror_mode": {
    "name": "ipython",
    "version": 3
   },
   "file_extension": ".py",
   "mimetype": "text/x-python",
   "name": "python",
   "nbconvert_exporter": "python",
   "pygments_lexer": "ipython3",
   "version": "3.7.6"
  }
 },
 "nbformat": 4,
 "nbformat_minor": 4
}
