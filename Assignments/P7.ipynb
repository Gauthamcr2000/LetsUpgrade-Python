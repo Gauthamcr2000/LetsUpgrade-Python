{
 "cells": [
  {
   "cell_type": "markdown",
   "metadata": {},
   "source": [
    "# Error Handling."
   ]
  },
  {
   "cell_type": "code",
   "execution_count": 1,
   "metadata": {},
   "outputs": [
    {
     "name": "stdout",
     "output_type": "stream",
     "text": [
      "Couldnt write into the file\n",
      "\n",
      "Throw's - not writable\n"
     ]
    }
   ],
   "source": [
    "somefile = open('some.txt','r')      #to open a file named some.txt in read only mode.\n",
    "try:               #trying to write something into the file.\n",
    "    a = 10\n",
    "    b= 27\n",
    "    c = a + b \n",
    "    somefile.write(\"Sum = \")\n",
    "    somefile.write(str(c))\n",
    "except Exception as e:      #excepts errors.\n",
    "    print('Couldnt write into the file\\n')\n",
    "    print(\"Throw's -\",e)    #throw's a type of exception occurred for trying to write into the file.\n",
    "else:\n",
    "    print('Successfully written into the file')     #if succeswsfully wriiten then, this msg will be printed.\n",
    "finally:      #a block of code which will be executed after try or except.\n",
    "    somefile.close()      #closes the file some.txt."
   ]
  },
  {
   "cell_type": "markdown",
   "metadata": {},
   "source": [
    "# Define a function to check for prime numbers and perform unit testing using      pylint and unittest libraries.\n",
    "    \n",
    "    -Using Pylint.."
   ]
  },
  {
   "cell_type": "code",
   "execution_count": 2,
   "metadata": {},
   "outputs": [
    {
     "name": "stdout",
     "output_type": "stream",
     "text": [
      "Overwriting primeornot.py\n"
     ]
    }
   ],
   "source": [
    "%%writefile primeornot.py\n",
    "'''\n",
    "Creating a python file.\n",
    "'''\n",
    "def isprimeornot(num):\n",
    "    '''\n",
    "    Creating a function to check prime or not.\n",
    "    '''\n",
    "    if num > 1:\n",
    "        for i in range(2, num):\n",
    "            if (num % i) == 0:\n",
    "                print('Number is Not Prime')\n",
    "                break\n",
    "        else:\n",
    "            print('Number is Prime')"
   ]
  },
  {
   "cell_type": "code",
   "execution_count": 3,
   "metadata": {},
   "outputs": [
    {
     "name": "stdout",
     "output_type": "stream",
     "text": [
      "\n",
      "--------------------------------------------------------------------\n",
      "\n",
      "Your code has been rated at 10.00/10 (previous run: 10.00/10, +0.00)\n",
      "\n",
      "\n",
      "\n"
     ]
    }
   ],
   "source": [
    "! Pylint primeornot.py            "
   ]
  },
  {
   "cell_type": "markdown",
   "metadata": {},
   "source": [
    "    -Using unittest library.."
   ]
  },
  {
   "cell_type": "code",
   "execution_count": 4,
   "metadata": {},
   "outputs": [
    {
     "name": "stdout",
     "output_type": "stream",
     "text": [
      "Overwriting primeornot.py\n"
     ]
    }
   ],
   "source": [
    "%%writefile primeornot.py     \n",
    "'''\n",
    "Creating a python file which checks for prime or not.\n",
    "'''\n",
    "def isprimeornot(num):      \n",
    "    '''\n",
    "    Creating a function which checks whether the entered number is prime or not.\n",
    "    '''\n",
    "    if num > 1:\n",
    "        for i in range(2, num):\n",
    "            if (num % i) == 0:\n",
    "                return False\n",
    "        else:\n",
    "            return True"
   ]
  },
  {
   "cell_type": "code",
   "execution_count": 5,
   "metadata": {},
   "outputs": [
    {
     "name": "stdout",
     "output_type": "stream",
     "text": [
      "Overwriting primeornottest.py\n"
     ]
    }
   ],
   "source": [
    "%%writefile primeornottest.py  \n",
    "\n",
    "import unittest \n",
    "import primeornot    \n",
    "\n",
    "class unittestprime(unittest.TestCase):    \n",
    "    def testprime1(self):     \n",
    "        num = 36     \n",
    "        result = primeornot.isprimeornot(num)  \n",
    "        self.assertAlmostEqual(result,False)    \n",
    "    def testprime2(self):   \n",
    "        num = 9719      \n",
    "        result = primeornot.isprimeornot(num)     \n",
    "        self.assertAlmostEqual(result,True)       \n",
    "if __name__ == \"__main__\":\n",
    "    unittest.main()"
   ]
  },
  {
   "cell_type": "code",
   "execution_count": 6,
   "metadata": {},
   "outputs": [
    {
     "name": "stderr",
     "output_type": "stream",
     "text": [
      "..\n",
      "----------------------------------------------------------------------\n",
      "Ran 2 tests in 0.002s\n",
      "\n",
      "OK\n"
     ]
    }
   ],
   "source": [
    "! python primeornottest.py      "
   ]
  },
  {
   "cell_type": "code",
   "execution_count": null,
   "metadata": {},
   "outputs": [],
   "source": []
  }
 ],
 "metadata": {
  "kernelspec": {
   "display_name": "Python 3",
   "language": "python",
   "name": "python3"
  },
  "language_info": {
   "codemirror_mode": {
    "name": "ipython",
    "version": 3
   },
   "file_extension": ".py",
   "mimetype": "text/x-python",
   "name": "python",
   "nbconvert_exporter": "python",
   "pygments_lexer": "ipython3",
   "version": "3.7.6"
  }
 },
 "nbformat": 4,
 "nbformat_minor": 4
}
