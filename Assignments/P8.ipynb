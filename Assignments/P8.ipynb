{
 "cells": [
  {
   "cell_type": "markdown",
   "metadata": {},
   "source": [
    "# Decorator function for taking input."
   ]
  },
  {
   "cell_type": "code",
   "execution_count": 1,
   "metadata": {},
   "outputs": [],
   "source": [
    "def inputtaker(arg):        #creating a decorate function\n",
    "    def inp():        #creating another function to accept the input.\n",
    "        num = int(input('Enter the number : '))  #prints fibonacci numbers till the specified number here. Or checks for prime.\n",
    "        arg(num)\n",
    "    return inp\n",
    "    "
   ]
  },
  {
   "cell_type": "code",
   "execution_count": 2,
   "metadata": {},
   "outputs": [],
   "source": [
    "@inputtaker\n",
    "def fib(num):\n",
    "    p = 0\n",
    "    q = 1\n",
    "    if num == 1:\n",
    "        print(p)\n",
    "    else:\n",
    "        print(p)\n",
    "        print(q)\n",
    "        i = 3\n",
    "    while i <= num:\n",
    "        r = p+q\n",
    "        print(r)\n",
    "        p=q\n",
    "        q=r\n",
    "        i=i+1"
   ]
  },
  {
   "cell_type": "code",
   "execution_count": 3,
   "metadata": {},
   "outputs": [
    {
     "name": "stdout",
     "output_type": "stream",
     "text": [
      "Enter the number : 5\n",
      "0\n",
      "1\n",
      "1\n",
      "2\n",
      "3\n"
     ]
    }
   ],
   "source": [
    "fib()"
   ]
  },
  {
   "cell_type": "code",
   "execution_count": 4,
   "metadata": {},
   "outputs": [],
   "source": [
    "@inputtaker\n",
    "def isprimeornot(num):\n",
    "    if num > 1:\n",
    "        for i in range(2,num):\n",
    "            if num % i == 0:\n",
    "                print('Not Prime')\n",
    "                break\n",
    "        else:\n",
    "            print('Prime')"
   ]
  },
  {
   "cell_type": "code",
   "execution_count": 5,
   "metadata": {},
   "outputs": [
    {
     "name": "stdout",
     "output_type": "stream",
     "text": [
      "Enter the number : 5\n",
      "Prime\n"
     ]
    }
   ],
   "source": [
    "isprimeornot()"
   ]
  },
  {
   "cell_type": "markdown",
   "metadata": {},
   "source": [
    "# Generator program."
   ]
  },
  {
   "cell_type": "code",
   "execution_count": 6,
   "metadata": {},
   "outputs": [],
   "source": [
    "def armstronggenerator():     #defining a function to print armstriong numbers for the specified range using the concept of generators.\n",
    "    for num in range(1, 1000+1):\n",
    "        order = len(str(num))\n",
    "        sum=0\n",
    "        temp=num\n",
    "        while temp > 0:\n",
    "            digit = temp % 10\n",
    "            sum = sum + digit ** order\n",
    "            temp = temp // 10\n",
    "        if num == sum:\n",
    "            yield num       #yield is a keyword used under this concept i.e., generators."
   ]
  },
  {
   "cell_type": "code",
   "execution_count": 7,
   "metadata": {},
   "outputs": [],
   "source": [
    "armstrongnumbers = list(armstronggenerator())   "
   ]
  },
  {
   "cell_type": "code",
   "execution_count": 8,
   "metadata": {},
   "outputs": [
    {
     "data": {
      "text/plain": [
       "[1, 2, 3, 4, 5, 6, 7, 8, 9, 153, 370, 371, 407]"
      ]
     },
     "execution_count": 8,
     "metadata": {},
     "output_type": "execute_result"
    }
   ],
   "source": [
    "armstrongnumbers"
   ]
  },
  {
   "cell_type": "code",
   "execution_count": null,
   "metadata": {},
   "outputs": [],
   "source": []
  }
 ],
 "metadata": {
  "kernelspec": {
   "display_name": "Python 3",
   "language": "python",
   "name": "python3"
  },
  "language_info": {
   "codemirror_mode": {
    "name": "ipython",
    "version": 3
   },
   "file_extension": ".py",
   "mimetype": "text/x-python",
   "name": "python",
   "nbconvert_exporter": "python",
   "pygments_lexer": "ipython3",
   "version": "3.7.6"
  }
 },
 "nbformat": 4,
 "nbformat_minor": 4
}
