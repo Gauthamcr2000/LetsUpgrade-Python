{
 "cells": [
  {
   "cell_type": "markdown",
   "metadata": {},
   "source": [
    "# List \n",
    "\n",
    "    Ordered sequence of Objects. \n",
    "    \n",
    "    Let us consider the following 5 functions to work with lists.\n",
    "    \n",
    "    1.append-This function can be used to add an element into the list.\n",
    "    \n",
    "    2.index-This function is used to check the the index of an item in the list.\n",
    "    \n",
    "    3.pop-This function is used to pop the last item in the list.\n",
    "    \n",
    "    4.remove-This function is used to remove the specified item in the list.\n",
    "    \n",
    "    5.count-This function is used to count the number of times the spcified item in the list.\n",
    "    "
   ]
  },
  {
   "cell_type": "code",
   "execution_count": 1,
   "metadata": {},
   "outputs": [],
   "source": [
    "lst = [10, 40.7, \"hi\", 65]"
   ]
  },
  {
   "cell_type": "code",
   "execution_count": 2,
   "metadata": {},
   "outputs": [],
   "source": [
    "lst.append(82.8)"
   ]
  },
  {
   "cell_type": "code",
   "execution_count": 3,
   "metadata": {},
   "outputs": [
    {
     "name": "stdout",
     "output_type": "stream",
     "text": [
      "[10, 40.7, 'hi', 65, 82.8]\n"
     ]
    }
   ],
   "source": [
    "print(lst)"
   ]
  },
  {
   "cell_type": "code",
   "execution_count": 5,
   "metadata": {},
   "outputs": [
    {
     "name": "stdout",
     "output_type": "stream",
     "text": [
      "2\n"
     ]
    }
   ],
   "source": [
    "x=lst.index(\"hi\")\n",
    "print(x)"
   ]
  },
  {
   "cell_type": "code",
   "execution_count": 6,
   "metadata": {},
   "outputs": [
    {
     "name": "stdout",
     "output_type": "stream",
     "text": [
      "[10, 40.7, 'hi', 65]\n"
     ]
    }
   ],
   "source": [
    "lst.pop()\n",
    "print(lst)"
   ]
  },
  {
   "cell_type": "code",
   "execution_count": 7,
   "metadata": {},
   "outputs": [
    {
     "name": "stdout",
     "output_type": "stream",
     "text": [
      "[10, 'hi', 65]\n"
     ]
    }
   ],
   "source": [
    "lst.remove(40.7)\n",
    "print(lst)"
   ]
  },
  {
   "cell_type": "code",
   "execution_count": 10,
   "metadata": {},
   "outputs": [
    {
     "name": "stdout",
     "output_type": "stream",
     "text": [
      "1\n"
     ]
    }
   ],
   "source": [
    "y=lst.count(10)\n",
    "print(y)"
   ]
  },
  {
   "cell_type": "markdown",
   "metadata": {},
   "source": [
    "# Dictionary\n",
    "\n",
    "    A dictionary is a collection of unordered, changeable and indexed.\n",
    "    \n",
    "    Let us consider any five functions to work with dictionaries.\n",
    "    \n",
    "    1.keys-This function is used to check the keys present in the dictionary.\n",
    "    \n",
    "    2.items-This function is used to print all the items present in the dictionary.\n",
    "    \n",
    "    3.values-This function is used to print only the values in the dictionary.\n",
    "    \n",
    "    4.pop-This function is used to pop the value of the specified key from the dictionary.\n",
    "    \n",
    "    5.clear-This function clears all the items in the dictionary and returns empty dictionary."
   ]
  },
  {
   "cell_type": "code",
   "execution_count": 11,
   "metadata": {},
   "outputs": [],
   "source": [
    "dit = {\"Name\":\"Gautham\", \"Age\":20, \"Place\":\"Bangalore\"}"
   ]
  },
  {
   "cell_type": "code",
   "execution_count": 14,
   "metadata": {},
   "outputs": [
    {
     "name": "stdout",
     "output_type": "stream",
     "text": [
      "dict_keys(['Name', 'Age', 'Place'])\n"
     ]
    }
   ],
   "source": [
    "x = dit.keys()\n",
    "print(x)"
   ]
  },
  {
   "cell_type": "code",
   "execution_count": 15,
   "metadata": {},
   "outputs": [
    {
     "name": "stdout",
     "output_type": "stream",
     "text": [
      "dict_items([('Name', 'Gautham'), ('Age', 20), ('Place', 'Bangalore')])\n"
     ]
    }
   ],
   "source": [
    "y = dit.items()\n",
    "print(y)"
   ]
  },
  {
   "cell_type": "code",
   "execution_count": 16,
   "metadata": {},
   "outputs": [
    {
     "name": "stdout",
     "output_type": "stream",
     "text": [
      "dict_values(['Gautham', 20, 'Bangalore'])\n"
     ]
    }
   ],
   "source": [
    "z = dit.values()\n",
    "print(z)"
   ]
  },
  {
   "cell_type": "code",
   "execution_count": 18,
   "metadata": {},
   "outputs": [
    {
     "name": "stdout",
     "output_type": "stream",
     "text": [
      "20\n"
     ]
    }
   ],
   "source": [
    "a = dit.pop('Age')\n",
    "print(a)"
   ]
  },
  {
   "cell_type": "code",
   "execution_count": 19,
   "metadata": {},
   "outputs": [
    {
     "name": "stdout",
     "output_type": "stream",
     "text": [
      "{}\n"
     ]
    }
   ],
   "source": [
    "dit.clear()\n",
    "print(dit)"
   ]
  },
  {
   "cell_type": "markdown",
   "metadata": {},
   "source": [
    "# Sets\n",
    "\n",
    "    Set is a collection which is unordered and unindexed.\n",
    "    \n",
    "    Let us consider any 5 functions to work with Set.\n",
    "    \n",
    "    1.add-This function ais used to add an item into the set.\n",
    "    \n",
    "    2.pop-This function is used to pop the item from the set.\n",
    "    \n",
    "    3.remove-This function is used to remove the specified item from the set.\n",
    "    \n",
    "    4.union-This function is used to print all the items of the set only once i.e., if an item is present twice, then union           method prints that item only once.\n",
    "    \n",
    "    5.clear-This function is used to remov e all the items from the set."
   ]
  },
  {
   "cell_type": "code",
   "execution_count": 20,
   "metadata": {},
   "outputs": [],
   "source": [
    "s = {\"apple\", \"mango\", \"orange\", \"grapes\", \"pineapple\", \"apple\"}"
   ]
  },
  {
   "cell_type": "code",
   "execution_count": 21,
   "metadata": {},
   "outputs": [
    {
     "name": "stdout",
     "output_type": "stream",
     "text": [
      "{'mango', 'grapes', 'orange', 'apple', 'pineapple', 'water melon'}\n"
     ]
    }
   ],
   "source": [
    "s.add('water melon')\n",
    "print(s)"
   ]
  },
  {
   "cell_type": "code",
   "execution_count": 22,
   "metadata": {},
   "outputs": [
    {
     "name": "stdout",
     "output_type": "stream",
     "text": [
      "{'grapes', 'orange', 'apple', 'pineapple', 'water melon'}\n"
     ]
    }
   ],
   "source": [
    "s.pop()\n",
    "print(s)"
   ]
  },
  {
   "cell_type": "code",
   "execution_count": 25,
   "metadata": {},
   "outputs": [
    {
     "name": "stdout",
     "output_type": "stream",
     "text": [
      "{'orange', 'apple', 'pineapple', 'water melon'}\n"
     ]
    }
   ],
   "source": [
    "s.remove('grapes')\n",
    "print(s)"
   ]
  },
  {
   "cell_type": "code",
   "execution_count": 26,
   "metadata": {},
   "outputs": [
    {
     "name": "stdout",
     "output_type": "stream",
     "text": [
      "{'orange', 'apple', 'pineapple', 'water melon'}\n"
     ]
    }
   ],
   "source": [
    "s.union()\n",
    "print(s)"
   ]
  },
  {
   "cell_type": "code",
   "execution_count": 27,
   "metadata": {},
   "outputs": [
    {
     "name": "stdout",
     "output_type": "stream",
     "text": [
      "set()\n"
     ]
    }
   ],
   "source": [
    "s.clear()\n",
    "print(s)"
   ]
  },
  {
   "cell_type": "markdown",
   "metadata": {},
   "source": [
    "# Tuple\n",
    "\n",
    "    Tuple is a collection ehich is oredered and unchangeable.\n",
    "    \n",
    "    Let us consider some functions to work with tuple.\n",
    "    \n",
    "    1.count-This function is used to display the count of how many times an item is present.\n",
    "    \n",
    "    2.index-This function is used to display the index of the specified item."
   ]
  },
  {
   "cell_type": "code",
   "execution_count": 37,
   "metadata": {},
   "outputs": [],
   "source": [
    "tup = (\"apple\", \"orange\", \"orange\", \"mango\", \"grapes\")"
   ]
  },
  {
   "cell_type": "code",
   "execution_count": 38,
   "metadata": {},
   "outputs": [
    {
     "name": "stdout",
     "output_type": "stream",
     "text": [
      "2\n"
     ]
    }
   ],
   "source": [
    "x = tup.count('orange')\n",
    "print(x)"
   ]
  },
  {
   "cell_type": "code",
   "execution_count": 41,
   "metadata": {},
   "outputs": [
    {
     "name": "stdout",
     "output_type": "stream",
     "text": [
      "4\n"
     ]
    }
   ],
   "source": [
    "y=tup.index('grapes')\n",
    "print(y)"
   ]
  },
  {
   "cell_type": "markdown",
   "metadata": {},
   "source": [
    "# String\n",
    "\n",
    "    A string is a sequence of characters.\n",
    "    \n",
    "    Lets us consider any 5 functions to work with string.\n",
    "    \n",
    "    1.capitalize-This function is used to make the first letter of the string capital.\n",
    "    \n",
    "    2.endswith-This function returns true or false based upon the specified string.\n",
    "    \n",
    "    3.index-This function returns the index of the specified string.\n",
    "    \n",
    "    4.lower-This function coverts all the characters of the string to lowercase.\n",
    "    \n",
    "    5.upper-This function is used to convert all the characters of the string to uppercase."
   ]
  },
  {
   "cell_type": "code",
   "execution_count": 61,
   "metadata": {},
   "outputs": [],
   "source": [
    "c = \"welcome to Python\""
   ]
  },
  {
   "cell_type": "code",
   "execution_count": 62,
   "metadata": {},
   "outputs": [
    {
     "name": "stdout",
     "output_type": "stream",
     "text": [
      "Welcome to python\n"
     ]
    }
   ],
   "source": [
    "x = c.capitalize()\n",
    "print(x)"
   ]
  },
  {
   "cell_type": "code",
   "execution_count": 63,
   "metadata": {},
   "outputs": [
    {
     "name": "stdout",
     "output_type": "stream",
     "text": [
      "False\n"
     ]
    }
   ],
   "source": [
    "y = c.endswith('python')\n",
    "print(y)"
   ]
  },
  {
   "cell_type": "code",
   "execution_count": 64,
   "metadata": {},
   "outputs": [
    {
     "name": "stdout",
     "output_type": "stream",
     "text": [
      "8\n"
     ]
    }
   ],
   "source": [
    "z = c.index(\"to\")\n",
    "print(z)"
   ]
  },
  {
   "cell_type": "code",
   "execution_count": 68,
   "metadata": {},
   "outputs": [
    {
     "name": "stdout",
     "output_type": "stream",
     "text": [
      "welcome to python\n"
     ]
    }
   ],
   "source": [
    "a = c.lower()\n",
    "print(a)"
   ]
  },
  {
   "cell_type": "code",
   "execution_count": 70,
   "metadata": {},
   "outputs": [
    {
     "name": "stdout",
     "output_type": "stream",
     "text": [
      "WELCOME TO PYTHON\n"
     ]
    }
   ],
   "source": [
    "b = c.upper()\n",
    "print(b)"
   ]
  },
  {
   "cell_type": "code",
   "execution_count": null,
   "metadata": {},
   "outputs": [],
   "source": []
  }
 ],
 "metadata": {
  "kernelspec": {
   "display_name": "Python 3",
   "language": "python",
   "name": "python3"
  },
  "language_info": {
   "codemirror_mode": {
    "name": "ipython",
    "version": 3
   },
   "file_extension": ".py",
   "mimetype": "text/x-python",
   "name": "python",
   "nbconvert_exporter": "python",
   "pygments_lexer": "ipython3",
   "version": "3.7.6"
  }
 },
 "nbformat": 4,
 "nbformat_minor": 4
}
