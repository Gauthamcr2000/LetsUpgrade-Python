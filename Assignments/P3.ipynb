{
 "cells": [
  {
   "cell_type": "markdown",
   "metadata": {},
   "source": [
    "# Function for taking a number and printing the fibonacci series."
   ]
  },
  {
   "cell_type": "code",
   "execution_count": 1,
   "metadata": {},
   "outputs": [
    {
     "name": "stdout",
     "output_type": "stream",
     "text": [
      "Enter the value:12\n",
      "0\n",
      "1\n",
      "1\n",
      "2\n",
      "3\n",
      "5\n",
      "8\n",
      "13\n",
      "21\n",
      "34\n",
      "55\n",
      "89\n"
     ]
    }
   ],
   "source": [
    "def fib(num):\n",
    "    p = 0\n",
    "    q = 1\n",
    "    if num == 1:\n",
    "        print(p)\n",
    "    else:\n",
    "        print(p)\n",
    "        print(q)\n",
    "        i = 3\n",
    "    while i <= num:\n",
    "        r = p+q\n",
    "        print(r)\n",
    "        p=q\n",
    "        q=r\n",
    "        i=i+1\n",
    "num=int(input('Enter the value:'))\n",
    "fib(num)       "
   ]
  },
  {
   "cell_type": "markdown",
   "metadata": {},
   "source": [
    "# File handling question."
   ]
  },
  {
   "cell_type": "code",
   "execution_count": 2,
   "metadata": {},
   "outputs": [],
   "source": [
    "#Opens a binary file\n",
    "binfile=open(\"bin1.bin\",'wb') \n",
    "binfile.close()"
   ]
  },
  {
   "cell_type": "code",
   "execution_count": 3,
   "metadata": {},
   "outputs": [],
   "source": [
    "#To write into the binary file\n",
    "binfile=open(\"bin1.bin\",'wb')\n",
    "binfile.write(b\"I love LetsUpgrade\")\n",
    "binfile.close()"
   ]
  },
  {
   "cell_type": "code",
   "execution_count": 4,
   "metadata": {},
   "outputs": [
    {
     "name": "stdout",
     "output_type": "stream",
     "text": [
      "b'I love LetsUpgrade'\n"
     ]
    }
   ],
   "source": [
    "#reads the binary file\n",
    "binfile=open(\"bin1.bin\",'rb')           \n",
    "r1=binfile.read()\n",
    "print(r1)\n",
    "binfile.close()"
   ]
  },
  {
   "cell_type": "code",
   "execution_count": 5,
   "metadata": {},
   "outputs": [],
   "source": [
    "#appends into a binary file\n",
    "binfile=open(\"bin1.bin\",'ab')\n",
    "binfile.write(b\"\\nI love learning python with lu\")\n",
    "binfile.close()"
   ]
  },
  {
   "cell_type": "code",
   "execution_count": 6,
   "metadata": {},
   "outputs": [
    {
     "name": "stdout",
     "output_type": "stream",
     "text": [
      "b'I love LetsUpgrade\\nI love learning python with lu'\n"
     ]
    }
   ],
   "source": [
    "#reading a binary file using with keyword\n",
    "with open(\"bin1.bin\",'rb') as binfile:\n",
    "    print (binfile.read())"
   ]
  },
  {
   "cell_type": "markdown",
   "metadata": {},
   "source": [
    "# Movie recommender system."
   ]
  },
  {
   "cell_type": "code",
   "execution_count": 7,
   "metadata": {},
   "outputs": [
    {
     "name": "stdout",
     "output_type": "stream",
     "text": [
      "Enter the category of the movie you want to watch: THriLLer\n",
      "My suggestion is:  The Invisible Guest\n"
     ]
    }
   ],
   "source": [
    "import random        #for randomizing the ouput each time the user enters the movie type.\n",
    "movietype = input('Enter the category of the movie you want to watch: ')\n",
    "if movietype.lower() == \"annimation\":\n",
    "    lst1=[\"Lion King\",\"Aladdin\",\"Angry Birds\",\"Kung Fu Panda\"]\n",
    "    print('My suggestion is: ',random.choice(lst1))\n",
    "elif movietype.lower() == \"romcom\":\n",
    "    lst2=[\"Let It Snow\",\"Tholi Prema\",\"The Perfect Date\",\"The Last Summer\"]\n",
    "    print('My suggestion is: ',random.choice(lst2))\n",
    "elif movietype.lower() == \"action\":\n",
    "    lst3=[\"Saaho\",\"War\",\"Extraction\",\"Aquaman\"]\n",
    "    print('My suggestion is: ',random.choice(lst3))\n",
    "elif movietype.lower() == \"thriller\":\n",
    "    lst4=[\"Dont Breathe\",\"Mrs Serial Killer\",\"The Invisible Guest\",\"Psycho\"]\n",
    "    print('My suggestion is: ',random.choice(lst4))\n",
    "else:\n",
    "    print('Movie type not found \\n')"
   ]
  },
  {
   "cell_type": "code",
   "execution_count": null,
   "metadata": {},
   "outputs": [],
   "source": []
  }
 ],
 "metadata": {
  "kernelspec": {
   "display_name": "Python 3",
   "language": "python",
   "name": "python3"
  },
  "language_info": {
   "codemirror_mode": {
    "name": "ipython",
    "version": 3
   },
   "file_extension": ".py",
   "mimetype": "text/x-python",
   "name": "python",
   "nbconvert_exporter": "python",
   "pygments_lexer": "ipython3",
   "version": "3.7.6"
  }
 },
 "nbformat": 4,
 "nbformat_minor": 4
}
