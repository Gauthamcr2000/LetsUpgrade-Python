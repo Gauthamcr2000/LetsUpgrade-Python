{
 "cells": [
  {
   "cell_type": "markdown",
   "metadata": {},
   "source": [
    "# Creating a class bank account that has two attributes and two methods."
   ]
  },
  {
   "cell_type": "code",
   "execution_count": 1,
   "metadata": {},
   "outputs": [],
   "source": [
    "class bankacc():       #creating a class with name bankacc.\n",
    "    ownerName = ''     #defining the attributes ownerName and balance.\n",
    "    balance = 0\n",
    "    def __init__(self, ownerName, balance):\n",
    "        self.ownerName = ownerName\n",
    "        self.balance = balance\n",
    "        print('Bank account object has been created.')\n",
    "    def showdetails(self):         #this method is used to display ownerName and balance.\n",
    "        print('Ownername =',self.ownerName)\n",
    "        print('Balance =',self.balance)\n",
    "    def deposit(self, deposit):    #this method is used to deposit amount.   \n",
    "        self.balance += deposit\n",
    "        print('Succesfully deposited.')\n",
    "        print('Balance amount =', self.balance)    #prints the remaining balance after depositing amount.\n",
    "    def withdraw(self, withdrawal):      #this method is used to withdraw amount by checking the conditions. \n",
    "        if self.balance >= withdrawal:   #if this condition is satisfiied then it prints withdrawal is possible.\n",
    "            print('Withdrawal is possible.')     \n",
    "            self.balance -= withdrawal\n",
    "            print('Balance amount =', self.balance)     #prints the remaining balance\n",
    "            if self.balance < 1000:    #if this condition is true then it prints thw warning msg for the user.\n",
    "                print('Please maintain a minimum balance of 1000 to make sure your account not to be overdrawn.')\n",
    "        else:\n",
    "            print('Withdrawal is not possible.')      #prints that withdrawal is not possible."
   ]
  },
  {
   "cell_type": "code",
   "execution_count": 2,
   "metadata": {},
   "outputs": [
    {
     "name": "stdout",
     "output_type": "stream",
     "text": [
      "Bank account object has been created.\n"
     ]
    }
   ],
   "source": [
    "details = bankacc('Gautham', 5000)"
   ]
  },
  {
   "cell_type": "code",
   "execution_count": 3,
   "metadata": {},
   "outputs": [
    {
     "name": "stdout",
     "output_type": "stream",
     "text": [
      "Ownername = Gautham\n",
      "Balance = 5000\n"
     ]
    }
   ],
   "source": [
    "details.showdetails()   "
   ]
  },
  {
   "cell_type": "code",
   "execution_count": 4,
   "metadata": {},
   "outputs": [
    {
     "name": "stdout",
     "output_type": "stream",
     "text": [
      "Withdrawal is possible.\n",
      "Balance amount = 3700\n"
     ]
    }
   ],
   "source": [
    "details.withdraw(1300)      "
   ]
  },
  {
   "cell_type": "code",
   "execution_count": 5,
   "metadata": {},
   "outputs": [
    {
     "name": "stdout",
     "output_type": "stream",
     "text": [
      "Succesfully deposited.\n",
      "Balance amount = 4500\n"
     ]
    }
   ],
   "source": [
    "details.deposit(800)"
   ]
  },
  {
   "cell_type": "code",
   "execution_count": 6,
   "metadata": {},
   "outputs": [
    {
     "name": "stdout",
     "output_type": "stream",
     "text": [
      "Withdrawal is possible.\n",
      "Balance amount = 1000\n"
     ]
    }
   ],
   "source": [
    "details.withdraw(3500)"
   ]
  },
  {
   "cell_type": "code",
   "execution_count": 7,
   "metadata": {},
   "outputs": [
    {
     "name": "stdout",
     "output_type": "stream",
     "text": [
      "Succesfully deposited.\n",
      "Balance amount = 1700\n"
     ]
    }
   ],
   "source": [
    "details.deposit(700)"
   ]
  },
  {
   "cell_type": "code",
   "execution_count": 8,
   "metadata": {},
   "outputs": [
    {
     "name": "stdout",
     "output_type": "stream",
     "text": [
      "Withdrawal is possible.\n",
      "Balance amount = 300\n",
      "Please maintain a minimum balance of 1000 to make sure your account not to be overdrawn.\n"
     ]
    }
   ],
   "source": [
    "details.withdraw(1400)"
   ]
  },
  {
   "cell_type": "code",
   "execution_count": 9,
   "metadata": {},
   "outputs": [
    {
     "name": "stdout",
     "output_type": "stream",
     "text": [
      "Succesfully deposited.\n",
      "Balance amount = 600\n"
     ]
    }
   ],
   "source": [
    "details.deposit(300)"
   ]
  },
  {
   "cell_type": "code",
   "execution_count": 10,
   "metadata": {},
   "outputs": [
    {
     "name": "stdout",
     "output_type": "stream",
     "text": [
      "Withdrawal is not possible.\n"
     ]
    }
   ],
   "source": [
    "details.withdraw(1000)"
   ]
  },
  {
   "cell_type": "code",
   "execution_count": 11,
   "metadata": {},
   "outputs": [
    {
     "name": "stdout",
     "output_type": "stream",
     "text": [
      "Succesfully deposited.\n",
      "Balance amount = 1500\n"
     ]
    }
   ],
   "source": [
    "details.deposit(900)"
   ]
  },
  {
   "cell_type": "markdown",
   "metadata": {},
   "source": [
    "# Creating a cone class that has two attributes and two methods."
   ]
  },
  {
   "cell_type": "code",
   "execution_count": 12,
   "metadata": {},
   "outputs": [],
   "source": [
    "class cone():       #creating a class with name cone.\n",
    "    radius = 0      #specifying the attributes.\n",
    "    height = 0\n",
    "    def __init__(self, radius, height):\n",
    "        self.radius = radius\n",
    "        self.height = height\n",
    "        print('Cone object has been created.')\n",
    "    def showdetails(self):    #this method is used to display the radius and height.\n",
    "        print('Radius =',self.radius)\n",
    "        print('Height =',self.height)\n",
    "    def volume(self):        #this method is used to find the volume of a cone by importing math.\n",
    "        import math\n",
    "        pi = 3.14159265\n",
    "        v = pi * self.radius * self.radius * self.height/3\n",
    "        print('Volume of Cone = '+str(v))\n",
    "    def surfacearea(self):    #this method is used to find the surface area of base and side of cone by importing math again.\n",
    "        import math\n",
    "        pi = 3.14159265\n",
    "        base = pi * self.radius*self.radius\n",
    "        side = pi * self.radius * math.sqrt(self.radius * self.radius + self.height* self.height)\n",
    "        print('Surface area base = '+str(base))\n",
    "        print('Surface area side = '+str(side))"
   ]
  },
  {
   "cell_type": "code",
   "execution_count": 13,
   "metadata": {},
   "outputs": [
    {
     "name": "stdout",
     "output_type": "stream",
     "text": [
      "Cone object has been created.\n"
     ]
    }
   ],
   "source": [
    "conedetails = cone(12.3, 11.9)      #considering radius = 12.3 and height = 11.9."
   ]
  },
  {
   "cell_type": "code",
   "execution_count": 14,
   "metadata": {},
   "outputs": [
    {
     "name": "stdout",
     "output_type": "stream",
     "text": [
      "Radius = 12.3\n",
      "Height = 11.9\n"
     ]
    }
   ],
   "source": [
    "conedetails.showdetails()"
   ]
  },
  {
   "cell_type": "code",
   "execution_count": 15,
   "metadata": {},
   "outputs": [
    {
     "name": "stdout",
     "output_type": "stream",
     "text": [
      "Volume of Cone = 1885.3231563400504\n"
     ]
    }
   ],
   "source": [
    "conedetails.volume()"
   ]
  },
  {
   "cell_type": "code",
   "execution_count": 16,
   "metadata": {},
   "outputs": [
    {
     "name": "stdout",
     "output_type": "stream",
     "text": [
      "Surface area base = 475.2915520185001\n",
      "Surface area side = 661.3245871422612\n"
     ]
    }
   ],
   "source": [
    "conedetails.surfacearea()"
   ]
  },
  {
   "cell_type": "code",
   "execution_count": 17,
   "metadata": {},
   "outputs": [
    {
     "name": "stdout",
     "output_type": "stream",
     "text": [
      "Cone object has been created.\n"
     ]
    }
   ],
   "source": [
    "conedetails = cone(182.08, 296.6)    #considering radius = 182.08 and height = 296.6"
   ]
  },
  {
   "cell_type": "code",
   "execution_count": 18,
   "metadata": {},
   "outputs": [
    {
     "name": "stdout",
     "output_type": "stream",
     "text": [
      "Radius = 182.08\n",
      "Height = 296.6\n"
     ]
    }
   ],
   "source": [
    "conedetails.showdetails()"
   ]
  },
  {
   "cell_type": "code",
   "execution_count": 19,
   "metadata": {},
   "outputs": [
    {
     "name": "stdout",
     "output_type": "stream",
     "text": [
      "Volume of Cone = 10297321.054956969\n"
     ]
    }
   ],
   "source": [
    "conedetails.volume()"
   ]
  },
  {
   "cell_type": "code",
   "execution_count": 20,
   "metadata": {},
   "outputs": [
    {
     "name": "stdout",
     "output_type": "stream",
     "text": [
      "Surface area base = 104153.61822276097\n",
      "Surface area side = 199080.3748155598\n"
     ]
    }
   ],
   "source": [
    "conedetails.surfacearea()"
   ]
  },
  {
   "cell_type": "code",
   "execution_count": null,
   "metadata": {},
   "outputs": [],
   "source": []
  }
 ],
 "metadata": {
  "kernelspec": {
   "display_name": "Python 3",
   "language": "python",
   "name": "python3"
  },
  "language_info": {
   "codemirror_mode": {
    "name": "ipython",
    "version": 3
   },
   "file_extension": ".py",
   "mimetype": "text/x-python",
   "name": "python",
   "nbconvert_exporter": "python",
   "pygments_lexer": "ipython3",
   "version": "3.7.6"
  }
 },
 "nbformat": 4,
 "nbformat_minor": 4
}
